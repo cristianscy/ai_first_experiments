{
 "cells": [
  {
   "cell_type": "code",
   "execution_count": 1,
   "id": "db270aa7-7b5f-4bab-8281-2d18d192650b",
   "metadata": {},
   "outputs": [],
   "source": [
    "# https://medium.com/@thakermadhav/build-your-own-rag-with-mistral-7b-and-langchain-97d0c92fa146"
   ]
  },
  {
   "cell_type": "code",
   "execution_count": null,
   "id": "cf2023df-4d1d-4a2f-a1db-7316c0abc66f",
   "metadata": {},
   "outputs": [],
   "source": []
  }
 ],
 "metadata": {
  "kernelspec": {
   "display_name": "Python 3 (ipykernel)",
   "language": "python",
   "name": "python3"
  },
  "language_info": {
   "codemirror_mode": {
    "name": "ipython",
    "version": 3
   },
   "file_extension": ".py",
   "mimetype": "text/x-python",
   "name": "python",
   "nbconvert_exporter": "python",
   "pygments_lexer": "ipython3",
   "version": "3.10.12"
  }
 },
 "nbformat": 4,
 "nbformat_minor": 5
}
