{
 "cells": [
  {
   "cell_type": "code",
   "execution_count": 1,
   "id": "6c089223-6921-4684-8c1d-3b9f0711a766",
   "metadata": {},
   "outputs": [],
   "source": [
    "import getpass\n",
    "import os\n",
    "import dotenv\n",
    "\n",
    "dotenv.load_dotenv()\n",
    "os.environ[\"LANGCHAIN_TRACING_V2\"] = \"true\""
   ]
  },
  {
   "cell_type": "code",
   "execution_count": 2,
   "id": "aadf54b9-7bb7-41b6-9c80-178f271739dd",
   "metadata": {},
   "outputs": [],
   "source": [
    "import bs4\n",
    "from langchain import hub\n",
    "from langchain.text_splitter import RecursiveCharacterTextSplitter\n",
    "from langchain_community.document_loaders import PyPDFLoader\n",
    "from langchain_community.vectorstores import Chroma\n",
    "from langchain_core.output_parsers import StrOutputParser\n",
    "from langchain_core.runnables import RunnablePassthrough\n",
    "from langchain_openai import ChatOpenAI, OpenAIEmbeddings"
   ]
  },
  {
   "cell_type": "code",
   "execution_count": 3,
   "id": "85322101-b682-438b-bf55-8c038097d2d1",
   "metadata": {},
   "outputs": [],
   "source": [
    "from langchain.prompts import PromptTemplate\n",
    "from langchain.prompts.chat import (\n",
    "    ChatPromptTemplate,\n",
    "    HumanMessagePromptTemplate,\n",
    "    SystemMessagePromptTemplate,\n",
    ")"
   ]
  },
  {
   "cell_type": "code",
   "execution_count": 4,
   "id": "42b9e8b7-075e-4453-9f41-1b278633b7f6",
   "metadata": {},
   "outputs": [],
   "source": [
    "prompt_template = \"\"\"Use the following pieces of context to answer the question at the end. \\\n",
    "If you don't know the answer, just say that you don't know, don't try to make up an answer. \\\n",
    "Use 5 lines for each answer.\n",
    "\n",
    "Context: {context}\n",
    "\n",
    "Question: {question}\n",
    "Answer: \"\"\""
   ]
  },
  {
   "cell_type": "code",
   "execution_count": 5,
   "id": "24431457-6b14-40d6-81f6-63eb8ebac514",
   "metadata": {},
   "outputs": [],
   "source": [
    "# Load PDF\n",
    "loader = PyPDFLoader(\"./pdf/Thesis.pdf\")\n",
    "docs = loader.load()\n",
    "\n",
    "text_splitter = RecursiveCharacterTextSplitter(chunk_size=1000, chunk_overlap=200)\n",
    "splits = text_splitter.split_documents(docs)\n",
    "vectorstore = Chroma.from_documents(documents=splits, embedding=OpenAIEmbeddings(), persist_directory=\"./chroma_db/chroma_db_openaiembeddings\")\n",
    "\n",
    "# Retrieve and generate using the relevant snippets of the blog.\n",
    "retriever = vectorstore.as_retriever()\n",
    "\n",
    "# prompt = hub.pull(\"rlm/rag-prompt\")\n",
    "prompt = PromptTemplate(\n",
    "    template=prompt_template, input_variables=[\"context\", \"question\"]\n",
    ")\n",
    "llm = ChatOpenAI(model_name=\"gpt-3.5-turbo\", temperature=0)\n",
    "\n",
    "\n",
    "def format_docs(docs):\n",
    "    return \"\\n\\n\".join(doc.page_content for doc in docs)\n",
    "\n",
    "\n",
    "# rag_chain = (\n",
    "#     {\"context\": retriever | format_docs, \"question\": RunnablePassthrough()}\n",
    "#     | prompt\n",
    "#     | llm\n",
    "#     | StrOutputParser()\n",
    "# )"
   ]
  },
  {
   "cell_type": "code",
   "execution_count": 6,
   "id": "6e6ac4a1-0ae8-4c82-9488-498927a8d28e",
   "metadata": {},
   "outputs": [],
   "source": [
    "from langchain_core.runnables import RunnableParallel\n",
    "\n",
    "rag_chain_from_docs = (\n",
    "    RunnablePassthrough.assign(context=(lambda x: format_docs(x[\"context\"])))\n",
    "    | prompt\n",
    "    | llm\n",
    "    | StrOutputParser()\n",
    ")\n",
    "\n",
    "rag_chain_with_source = RunnableParallel(\n",
    "    {\"context\": retriever, \"question\": RunnablePassthrough()}\n",
    ").assign(answer=rag_chain_from_docs)"
   ]
  },
  {
   "cell_type": "code",
   "execution_count": 7,
   "id": "b21c4fcb-f97c-4ae3-9516-c6eb87b30807",
   "metadata": {},
   "outputs": [
    {
     "data": {
      "text/plain": [
       "{'context': [Document(page_content='2.2.3 SWAN working modes.\\nThere are two working modes deﬁned in the SWAN system: Maintenance mode and\\nOperation mode . The Maintenance mode is runned when the aircraft is on the ground\\nand has the functions of associate and disassociate the sensor/actuator nodes from the', metadata={'page': 18, 'source': './pdf/Thesis.pdf'}),\n",
       "  Document(page_content='All the WDCs are connected to a SWAN server. The purpose of the SWAN server is\\nto control and manage all the components of the WSN. The software implemented in\\nthe SWAN server acts as a gate to the data collected by the wired network through the\\nWDCs. The SWAN server also provides an interface to the client applications and the\\nHMI.\\nThe client applications operate with the data collected by the sensor nodes. Also they\\ncan send commands to change the state of the actuator nodes. The HMI permit the\\ninteraction to display and manage the data in a comprehensible way.\\n2.2.1 Wireless network topology.\\nThe SWAN’s wireless network is organized according to a star topology as is shown in\\nFigure 2.2, based on the IEEE 802.15.4 LR-WPAN standard [1]. There are two types of\\ndevices, full-function devices (FFD) and reduced-function devices (RFD). All the sensor\\nnodes or RFDs are connected to the central node which is the coordinator node or FFD.', metadata={'page': 16, 'source': './pdf/Thesis.pdf'}),\n",
       "  Document(page_content='cluster active with the drawback that the uplink redudancy will be disabled.\\n•Uplink redudancy : The uplink redudant scenario consist of implementing sev-\\neral WDCs within the same cluster as is presented in Figure 2.3, since sensor/actu-\\nator nodes can transmit the data to multiple coordinators. The probability of data\\nloss is decreased if the sensor nodes transmit their data to multiple coordinators.\\nThese multiple data streams should be combined in the SWAN server. The uplink\\nredudancy is the simpler way to increase the reliability and therefore is preferred.\\n•Downlink and Uplink redudancy : Downlink and uplink redudancy means that\\nthe two previous scenarios take place at the same time, hence a data combiner is\\nrequired in both sides of the wireless network.\\n2.2.3 SWAN working modes.\\nThere are two working modes deﬁned in the SWAN system: Maintenance mode and\\nOperation mode . The Maintenance mode is runned when the aircraft is on the ground', metadata={'page': 18, 'source': './pdf/Thesis.pdf'}),\n",
       "  Document(page_content='2.2.3 SWAN working modes. . . . . . . . . . . . . . . . . . . . . . . . . 7\\n2.2.4 Node localization service. . . . . . . . . . . . . . . . . . . . . . . . 8\\n2.3 Properties and beneﬁts of WSNs on-board aircrafts. . . . . . . . . . . . . 9\\n2.4 WSN applications on-board aircrafts. . . . . . . . . . . . . . . . . . . . . . 10\\n2.4.1 Flight test installation. . . . . . . . . . . . . . . . . . . . . . . . . . 10\\n2.4.2 Aircraft structure health monitoring. . . . . . . . . . . . . . . . . . 11\\n2.4.3 Fire and smoke detection systems. . . . . . . . . . . . . . . . . . . 11\\n2.4.4 Proximity switches on PAX seat. . . . . . . . . . . . . . . . . . . . 12\\n2.4.5 Other applications. . . . . . . . . . . . . . . . . . . . . . . . . . . . 12\\n3 Medium Access Control protocol in WSNs. 14\\n3.1 Introduction. . . . . . . . . . . . . . . . . . . . . . . . . . . . . . . . . . . 14\\n3.1.1 Main families of MAC protocols. . . . . . . . . . . . . . . . . . . . 14', metadata={'page': 3, 'source': './pdf/Thesis.pdf'})],\n",
       " 'question': 'Explain extensively the SWAN working modes.',\n",
       " 'answer': 'The SWAN system has two working modes: Maintenance mode and Operation mode. The Maintenance mode is activated when the aircraft is on the ground. In this mode, the system performs functions such as associating and disassociating the sensor/actuator nodes from the network. This mode is primarily used for maintenance and configuration purposes.\\n\\nOn the other hand, the Operation mode is the mode in which the SWAN system operates during flight. In this mode, the system collects data from the sensor nodes and allows client applications to operate with this data. The client applications can also send commands to change the state of the actuator nodes. The HMI (Human-Machine Interface) provides an interface for users to interact with and manage the data in a comprehensible way.\\n\\nOverall, the SWAN working modes allow for the proper functioning and management of the wireless sensor network on-board the aircraft. The Maintenance mode ensures that the system can be configured and maintained while on the ground, while the Operation mode enables data collection, command transmission, and user interaction during flight.'}"
      ]
     },
     "execution_count": 7,
     "metadata": {},
     "output_type": "execute_result"
    }
   ],
   "source": [
    "rag_chain_with_source.invoke(\"Explain extensively the SWAN working modes.\")"
   ]
  },
  {
   "cell_type": "code",
   "execution_count": 8,
   "id": "b1163f01-7828-4494-85dd-edbc6bfd7e2f",
   "metadata": {},
   "outputs": [],
   "source": [
    "# # cleanup\n",
    "# vectorstore.delete_collection()"
   ]
  },
  {
   "cell_type": "code",
   "execution_count": null,
   "id": "de1a6f9d-eaca-43fb-b4bf-63c8b917a424",
   "metadata": {},
   "outputs": [],
   "source": []
  }
 ],
 "metadata": {
  "kernelspec": {
   "display_name": "Python 3 (ipykernel)",
   "language": "python",
   "name": "python3"
  },
  "language_info": {
   "codemirror_mode": {
    "name": "ipython",
    "version": 3
   },
   "file_extension": ".py",
   "mimetype": "text/x-python",
   "name": "python",
   "nbconvert_exporter": "python",
   "pygments_lexer": "ipython3",
   "version": "3.10.12"
  }
 },
 "nbformat": 4,
 "nbformat_minor": 5
}
